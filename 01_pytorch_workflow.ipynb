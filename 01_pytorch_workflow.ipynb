{
  "nbformat": 4,
  "nbformat_minor": 0,
  "metadata": {
    "colab": {
      "provenance": [],
      "gpuType": "T4"
    },
    "kernelspec": {
      "name": "python3",
      "display_name": "Python 3"
    },
    "language_info": {
      "name": "python"
    },
    "accelerator": "GPU"
  },
  "cells": [
    {
      "cell_type": "markdown",
      "source": [
        "# PyTorch Workflow\n",
        "\n",
        "What does this notebook contain ?\n",
        "\n",
        "1) Data: Prepare and load.\n",
        "2) Build Model.\n",
        "3) Fitting model to data (training).\n",
        "4) Making predictions and evauluating a model (inference).\n",
        "5) Saving and loading a model.\n",
        "6) Putting it all together."
      ],
      "metadata": {
        "id": "8H4WkOiuY03F"
      }
    },
    {
      "cell_type": "code",
      "source": [
        "import torch\n",
        "from torch import nn #nn contains all of PyTorch's building blocks for neural networks.\n",
        "import matplotlib.pyplot as plt\n",
        "\n",
        "#check pytorch version\n",
        "torch.__version__"
      ],
      "metadata": {
        "colab": {
          "base_uri": "https://localhost:8080/",
          "height": 35
        },
        "id": "OHllLK2FZrgg",
        "outputId": "4f7b2e59-2b36-406f-fb9b-9e009f749e0d"
      },
      "execution_count": 1,
      "outputs": [
        {
          "output_type": "execute_result",
          "data": {
            "text/plain": [
              "'2.3.0+cu121'"
            ],
            "application/vnd.google.colaboratory.intrinsic+json": {
              "type": "string"
            }
          },
          "metadata": {},
          "execution_count": 1
        }
      ]
    },
    {
      "cell_type": "markdown",
      "source": [
        "# 1. Data (Perpairing and Loading)"
      ],
      "metadata": {
        "id": "o1DkU2BLdwe9"
      }
    },
    {
      "cell_type": "markdown",
      "source": [
        "## Creating a simple dataset using linear regression\n",
        "\n",
        "Data can be almost anythin... in machine learning\n",
        "\n",
        "* Excel spreadsheets\n",
        "* Images of any kind\n",
        "* Videos (Youtube has lots of data...)\n",
        "* Audio like songs or podcasts\n",
        "* DNA\n",
        "* Text\n",
        "\n",
        "Machine learning is a game of two parts:\n",
        "1. Get data into numerical representation.\n",
        "2. Build a model to learn patterns in that numerical representation.\n",
        "\n",
        "To showcase this, let's create some **known** data using the linear regression formula.\n",
        "\n",
        "We will using a linear regression formula to make a straight line with known **parameters**"
      ],
      "metadata": {
        "id": "QnYDGv2Ed5VZ"
      }
    },
    {
      "cell_type": "code",
      "source": [
        "X = torch.arange(0,1,0.02)\n",
        "X"
      ],
      "metadata": {
        "colab": {
          "base_uri": "https://localhost:8080/"
        },
        "id": "na6hi_hAW0yi",
        "outputId": "8a409eff-f382-4e09-aab3-1fe4b8db8dbb"
      },
      "execution_count": 158,
      "outputs": [
        {
          "output_type": "execute_result",
          "data": {
            "text/plain": [
              "tensor([0.0000, 0.0200, 0.0400, 0.0600, 0.0800, 0.1000, 0.1200, 0.1400, 0.1600,\n",
              "        0.1800, 0.2000, 0.2200, 0.2400, 0.2600, 0.2800, 0.3000, 0.3200, 0.3400,\n",
              "        0.3600, 0.3800, 0.4000, 0.4200, 0.4400, 0.4600, 0.4800, 0.5000, 0.5200,\n",
              "        0.5400, 0.5600, 0.5800, 0.6000, 0.6200, 0.6400, 0.6600, 0.6800, 0.7000,\n",
              "        0.7200, 0.7400, 0.7600, 0.7800, 0.8000, 0.8200, 0.8400, 0.8600, 0.8800,\n",
              "        0.9000, 0.9200, 0.9400, 0.9600, 0.9800])"
            ]
          },
          "metadata": {},
          "execution_count": 158
        }
      ]
    },
    {
      "cell_type": "code",
      "source": [
        "# Create *known* parameters\n",
        "\n",
        "weight = 0.9\n",
        "bias = 0.3\n",
        "\n",
        "\n",
        "# Create\n",
        "start = 0\n",
        "end = 1\n",
        "step = 0.02\n",
        "# X = torch.arange(start,end,step)\n",
        "# print(X)\n",
        "X = torch.arange(start, end, step).unsqueeze(dim=1) #unsqueeze adds an extra dimension as mentioned.\n",
        "y = weight * X + bias\n",
        "X[:10],y[:10]"
      ],
      "metadata": {
        "colab": {
          "base_uri": "https://localhost:8080/"
        },
        "id": "KrWkMnkHdkfu",
        "outputId": "8ae4d381-44b1-4d15-fa89-b92c50758523"
      },
      "execution_count": 2,
      "outputs": [
        {
          "output_type": "execute_result",
          "data": {
            "text/plain": [
              "(tensor([[0.0000],\n",
              "         [0.0200],\n",
              "         [0.0400],\n",
              "         [0.0600],\n",
              "         [0.0800],\n",
              "         [0.1000],\n",
              "         [0.1200],\n",
              "         [0.1400],\n",
              "         [0.1600],\n",
              "         [0.1800]]),\n",
              " tensor([[0.3000],\n",
              "         [0.3180],\n",
              "         [0.3360],\n",
              "         [0.3540],\n",
              "         [0.3720],\n",
              "         [0.3900],\n",
              "         [0.4080],\n",
              "         [0.4260],\n",
              "         [0.4440],\n",
              "         [0.4620]]))"
            ]
          },
          "metadata": {},
          "execution_count": 2
        }
      ]
    },
    {
      "cell_type": "code",
      "source": [
        "len(X), len(y)"
      ],
      "metadata": {
        "colab": {
          "base_uri": "https://localhost:8080/"
        },
        "id": "GQ2LSxWugqTP",
        "outputId": "d22ded1a-2293-4530-f003-72199d823e33"
      },
      "execution_count": 3,
      "outputs": [
        {
          "output_type": "execute_result",
          "data": {
            "text/plain": [
              "(50, 50)"
            ]
          },
          "metadata": {},
          "execution_count": 3
        }
      ]
    },
    {
      "cell_type": "markdown",
      "source": [
        "# Splitting our data into training and test sets (Very important)\n",
        "\n",
        "Ideally we keep 60%-80% of the data in the training set and 10%-20% of out data in training set\n",
        "\n",
        "## Creating a training and test set with our data\n",
        "\n"
      ],
      "metadata": {
        "id": "-ey-kleMXPzG"
      }
    },
    {
      "cell_type": "code",
      "source": [
        "# create a train/test split\n",
        "\n",
        "\n",
        "train_split = int(0.8 * len(X))\n",
        "train_split\n"
      ],
      "metadata": {
        "id": "BSU9TsNsgyRF",
        "outputId": "4d9249e7-36a9-40d1-89f2-e5a413805ecc",
        "colab": {
          "base_uri": "https://localhost:8080/"
        }
      },
      "execution_count": 4,
      "outputs": [
        {
          "output_type": "execute_result",
          "data": {
            "text/plain": [
              "40"
            ]
          },
          "metadata": {},
          "execution_count": 4
        }
      ]
    },
    {
      "cell_type": "code",
      "source": [
        "X_train, y_train = X[:train_split], y[:train_split]\n",
        "X_test, y_test = X[train_split:], y[train_split:]\n",
        "\n",
        "len(X_train), len(y_train), len(X_test), len(y_test)"
      ],
      "metadata": {
        "id": "WQiEm0XiCY1n",
        "colab": {
          "base_uri": "https://localhost:8080/"
        },
        "outputId": "d69bf52d-c404-434d-ec05-c5917fee7035"
      },
      "execution_count": 5,
      "outputs": [
        {
          "output_type": "execute_result",
          "data": {
            "text/plain": [
              "(40, 40, 10, 10)"
            ]
          },
          "metadata": {},
          "execution_count": 5
        }
      ]
    },
    {
      "cell_type": "code",
      "source": [
        "X_train,y_train"
      ],
      "metadata": {
        "colab": {
          "base_uri": "https://localhost:8080/"
        },
        "id": "1k8klWxaahrW",
        "outputId": "6dd63b4b-7f2e-425b-a4ad-fe38cb27eb7b"
      },
      "execution_count": 6,
      "outputs": [
        {
          "output_type": "execute_result",
          "data": {
            "text/plain": [
              "(tensor([[0.0000],\n",
              "         [0.0200],\n",
              "         [0.0400],\n",
              "         [0.0600],\n",
              "         [0.0800],\n",
              "         [0.1000],\n",
              "         [0.1200],\n",
              "         [0.1400],\n",
              "         [0.1600],\n",
              "         [0.1800],\n",
              "         [0.2000],\n",
              "         [0.2200],\n",
              "         [0.2400],\n",
              "         [0.2600],\n",
              "         [0.2800],\n",
              "         [0.3000],\n",
              "         [0.3200],\n",
              "         [0.3400],\n",
              "         [0.3600],\n",
              "         [0.3800],\n",
              "         [0.4000],\n",
              "         [0.4200],\n",
              "         [0.4400],\n",
              "         [0.4600],\n",
              "         [0.4800],\n",
              "         [0.5000],\n",
              "         [0.5200],\n",
              "         [0.5400],\n",
              "         [0.5600],\n",
              "         [0.5800],\n",
              "         [0.6000],\n",
              "         [0.6200],\n",
              "         [0.6400],\n",
              "         [0.6600],\n",
              "         [0.6800],\n",
              "         [0.7000],\n",
              "         [0.7200],\n",
              "         [0.7400],\n",
              "         [0.7600],\n",
              "         [0.7800]]),\n",
              " tensor([[0.3000],\n",
              "         [0.3180],\n",
              "         [0.3360],\n",
              "         [0.3540],\n",
              "         [0.3720],\n",
              "         [0.3900],\n",
              "         [0.4080],\n",
              "         [0.4260],\n",
              "         [0.4440],\n",
              "         [0.4620],\n",
              "         [0.4800],\n",
              "         [0.4980],\n",
              "         [0.5160],\n",
              "         [0.5340],\n",
              "         [0.5520],\n",
              "         [0.5700],\n",
              "         [0.5880],\n",
              "         [0.6060],\n",
              "         [0.6240],\n",
              "         [0.6420],\n",
              "         [0.6600],\n",
              "         [0.6780],\n",
              "         [0.6960],\n",
              "         [0.7140],\n",
              "         [0.7320],\n",
              "         [0.7500],\n",
              "         [0.7680],\n",
              "         [0.7860],\n",
              "         [0.8040],\n",
              "         [0.8220],\n",
              "         [0.8400],\n",
              "         [0.8580],\n",
              "         [0.8760],\n",
              "         [0.8940],\n",
              "         [0.9120],\n",
              "         [0.9300],\n",
              "         [0.9480],\n",
              "         [0.9660],\n",
              "         [0.9840],\n",
              "         [1.0020]]))"
            ]
          },
          "metadata": {},
          "execution_count": 6
        }
      ]
    },
    {
      "cell_type": "markdown",
      "source": [
        "## How might we better visualize our data ?\n",
        "\n",
        "This is where the data explorer's motto comes in\n",
        "\n",
        "\"Visualize, Visualize, Visualize\""
      ],
      "metadata": {
        "id": "4MZ4tqn4cF-w"
      }
    },
    {
      "cell_type": "code",
      "source": [
        "def plot_predictions(train_data = X_train, train_labels = y_train,\n",
        "                     test_data = X_test, test_labels = y_test,\n",
        "                     predictions = None):\n",
        "  plt.figure(figsize=(10,7))\n",
        "\n",
        "  #Plot training data in blue\n",
        "  plt.scatter(train_data, train_labels, c=\"b\", s=4, label=\"Training data\")\n",
        "\n",
        "  #Plot test data in green\n",
        "  plt.scatter(test_data, test_labels, c=\"g\", s=4, label=\"Testing data\")\n",
        "\n",
        "  #Are there predictions ?\n",
        "  if predictions is not None:\n",
        "    # Plot the predictions if they exist\n",
        "    plt.scatter(test_data, predictions, c=\"r\",s=4, label=\"Predictions\")\n",
        "\n",
        "    #show lengend\n",
        "    plt.legend(prop={\"size\":14})"
      ],
      "metadata": {
        "id": "1_NzawXkb2zZ"
      },
      "execution_count": 7,
      "outputs": []
    },
    {
      "cell_type": "code",
      "source": [
        "plot_predictions()"
      ],
      "metadata": {
        "colab": {
          "base_uri": "https://localhost:8080/",
          "height": 599
        },
        "id": "MnfzeROVcfxp",
        "outputId": "7c3fafdc-2d3d-4c82-c957-725866ce9656"
      },
      "execution_count": 8,
      "outputs": [
        {
          "output_type": "display_data",
          "data": {
            "text/plain": [
              "<Figure size 1000x700 with 1 Axes>"
            ],
            "image/png": "[encoded data removed]"
          },
          "metadata": {}
        }
      ]
    },
    {
      "cell_type": "markdown",
      "source": [
        "# 2. Building Model\n",
        "\n",
        "We will build a linear regression model using PyTorch\n",
        "\n",
        "Formula = wx + b\n",
        "\n",
        "What our model does ?\n",
        "\n",
        "* Start with random values (weight and bias)\n",
        "* Look at training data and adjust the random values to better represent (or get closer to) the ideal values (the weight and bias values we used to create the data)\n",
        "\n",
        "How does it do so ?\n",
        "\n",
        "Through two main algorithms:\n",
        "1. Gradient Descent\n",
        "2. Backpropagation\n"
      ],
      "metadata": {
        "id": "kWqHjEGGgGqo"
      }
    },
    {
      "cell_type": "code",
      "source": [
        "# Create a linear regression model class\n",
        "\n",
        "from torch import nn\n",
        "\n",
        "class LinearRegressionModel(nn.Module): # almost everything in pytorch inherits from nn.Module\n",
        "  def __init__(self):\n",
        "    super().__init__()\n",
        "    self.weights = nn.Parameter(torch.rand(1, # start with a random weight and try to adjust it to the ideal weight\n",
        "                                           requires_grad=True, # can this parameter be updated via gradient descent ?\n",
        "                                           dtype=torch.float)) #PyTorch loves the datatype torch.float32\n",
        "\n",
        "    self.bias = nn.Parameter(torch.rand(1, # start with a random weight and try to adjust it to the ideal weight\n",
        "                                        requires_grad=True, # can this parameter be updated via gradient descent ?\n",
        "                                        dtype=torch.float)) #PyTorch loves the datatype torch.float32\n",
        "\n",
        "  #forward method to define the computation in the model\n",
        "  def forward(self, x: torch.Tensor) -> torch.Tensor: # \"x\" is the input data\n",
        "    return self.weights * x + self.bias #this is the linear regression formula\n"
      ],
      "metadata": {
        "id": "r5dIzS4QdtGX"
      },
      "execution_count": 9,
      "outputs": []
    },
    {
      "cell_type": "markdown",
      "source": [
        "### PyTorch model building essentials\n",
        "\n",
        "* torch.nn - contains all of the buildings for computational graphs (a neural network can be considered a computational graph)\n",
        "\n",
        "* torch.nn.Parameter - what parameters should our model try and learn, often a PyTorch layer from torch.nn will set these for us.\n",
        "\n",
        "* torch.nn.Module - The base class for all neural network modules, if you subclass it you should overwrite forward() method.\n",
        "\n",
        "* torch.optim - this is where the optimizers in PyTorch live, they will help with gradient descent.\n",
        "\n",
        "* def forward() - All nn.Module subclasses require you to overwrite forward(), this method defines what happens in the forward computations"
      ],
      "metadata": {
        "id": "55LuaarWmOCe"
      }
    },
    {
      "cell_type": "markdown",
      "source": [
        "## Checking out the contents of our PyTorch model\n",
        "\n",
        "we can check our model parameters using .parameters()"
      ],
      "metadata": {
        "id": "njNK4BtgpXyX"
      }
    },
    {
      "cell_type": "code",
      "source": [
        "# Create a random seed\n",
        "torch.manual_seed(42)\n",
        "\n",
        "# Create an instance of the model (this is a subclass of nn.Module)\n",
        "model_0 = LinearRegressionModel()\n",
        "\n",
        "model_0\n",
        "\n",
        "# checkout the parameters\n",
        "list(model_0.parameters())"
      ],
      "metadata": {
        "id": "HatcYB_Hgb9c",
        "colab": {
          "base_uri": "https://localhost:8080/"
        },
        "outputId": "a96b683d-c725-4998-9275-8eca9bb686e7"
      },
      "execution_count": 10,
      "outputs": [
        {
          "output_type": "execute_result",
          "data": {
            "text/plain": [
              "[Parameter containing:\n",
              " tensor([0.8823], requires_grad=True),\n",
              " Parameter containing:\n",
              " tensor([0.9150], requires_grad=True)]"
            ]
          },
          "metadata": {},
          "execution_count": 10
        }
      ]
    },
    {
      "cell_type": "code",
      "source": [
        "# list named parameters\n",
        "model_0.state_dict()"
      ],
      "metadata": {
        "colab": {
          "base_uri": "https://localhost:8080/"
        },
        "id": "3FsjP8MxtUCz",
        "outputId": "58d0bcb0-f639-44c6-8c96-a09b8e356096"
      },
      "execution_count": 11,
      "outputs": [
        {
          "output_type": "execute_result",
          "data": {
            "text/plain": [
              "OrderedDict([('weights', tensor([0.8823])), ('bias', tensor([0.9150]))])"
            ]
          },
          "metadata": {},
          "execution_count": 11
        }
      ]
    },
    {
      "cell_type": "markdown",
      "source": [
        "## Making predictions using `torch.inference_mode()`\n",
        "\n",
        "To check our model's predictive power, let;s see how well it predicts `y_test` based on `X_test`\n",
        "\n",
        "When we pass data through our model, it is going to run it through the forward() method."
      ],
      "metadata": {
        "id": "4SDvGbuGvN-A"
      }
    },
    {
      "cell_type": "code",
      "source": [
        "X_test"
      ],
      "metadata": {
        "colab": {
          "base_uri": "https://localhost:8080/"
        },
        "id": "-PMPJm4TwTpP",
        "outputId": "a145c866-8eba-40f0-9e8b-2aea06350357"
      },
      "execution_count": 12,
      "outputs": [
        {
          "output_type": "execute_result",
          "data": {
            "text/plain": [
              "tensor([[0.8000],\n",
              "        [0.8200],\n",
              "        [0.8400],\n",
              "        [0.8600],\n",
              "        [0.8800],\n",
              "        [0.9000],\n",
              "        [0.9200],\n",
              "        [0.9400],\n",
              "        [0.9600],\n",
              "        [0.9800]])"
            ]
          },
          "metadata": {},
          "execution_count": 12
        }
      ]
    },
    {
      "cell_type": "code",
      "source": [
        "y_preds = model_0(X_test)\n",
        "y_preds"
      ],
      "metadata": {
        "colab": {
          "base_uri": "https://localhost:8080/"
        },
        "id": "_LfNU866yJHQ",
        "outputId": "f07f8f7c-84c0-49a1-ef0b-b9c5e1894612"
      },
      "execution_count": 13,
      "outputs": [
        {
          "output_type": "execute_result",
          "data": {
            "text/plain": [
              "tensor([[1.6208],\n",
              "        [1.6385],\n",
              "        [1.6561],\n",
              "        [1.6738],\n",
              "        [1.6914],\n",
              "        [1.7090],\n",
              "        [1.7267],\n",
              "        [1.7443],\n",
              "        [1.7620],\n",
              "        [1.7796]], grad_fn=<AddBackward0>)"
            ]
          },
          "metadata": {},
          "execution_count": 13
        }
      ]
    },
    {
      "cell_type": "code",
      "source": [
        "# Make predictions with model\n",
        "\n",
        "with torch.inference_mode(): #it turns of the gradient tracking\n",
        "  y_preds = model_0(X_test)\n",
        "\n",
        "y_preds"
      ],
      "metadata": {
        "colab": {
          "base_uri": "https://localhost:8080/"
        },
        "id": "4Zp98KA5tx5m",
        "outputId": "233e27e2-f870-4fa5-e101-faf66f8db3fd"
      },
      "execution_count": 14,
      "outputs": [
        {
          "output_type": "execute_result",
          "data": {
            "text/plain": [
              "tensor([[1.6208],\n",
              "        [1.6385],\n",
              "        [1.6561],\n",
              "        [1.6738],\n",
              "        [1.6914],\n",
              "        [1.7090],\n",
              "        [1.7267],\n",
              "        [1.7443],\n",
              "        [1.7620],\n",
              "        [1.7796]])"
            ]
          },
          "metadata": {},
          "execution_count": 14
        }
      ]
    },
    {
      "cell_type": "code",
      "source": [
        "y_test"
      ],
      "metadata": {
        "colab": {
          "base_uri": "https://localhost:8080/"
        },
        "id": "WeM6vXkdwegO",
        "outputId": "3eba38c6-dd03-4eb1-fb9b-d452f4c7ad59"
      },
      "execution_count": 15,
      "outputs": [
        {
          "output_type": "execute_result",
          "data": {
            "text/plain": [
              "tensor([[1.0200],\n",
              "        [1.0380],\n",
              "        [1.0560],\n",
              "        [1.0740],\n",
              "        [1.0920],\n",
              "        [1.1100],\n",
              "        [1.1280],\n",
              "        [1.1460],\n",
              "        [1.1640],\n",
              "        [1.1820]])"
            ]
          },
          "metadata": {},
          "execution_count": 15
        }
      ]
    },
    {
      "cell_type": "code",
      "source": [
        "plot_predictions(predictions=y_preds)"
      ],
      "metadata": {
        "colab": {
          "base_uri": "https://localhost:8080/",
          "height": 599
        },
        "id": "__G0i_7txdt7",
        "outputId": "13c528c9-ddec-4e81-a099-005c232ae159"
      },
      "execution_count": 16,
      "outputs": [
        {
          "output_type": "display_data",
          "data": {
            "text/plain": [
              "<Figure size 1000x700 with 1 Axes>"
            ],
            "image/png": "[encoded data removed]"
          },
          "metadata": {}
        }
      ]
    },
    {
      "cell_type": "markdown",
      "source": [
        "## 3. Training the model\n",
        "\n",
        "The whole idea of training is for a model to move from some *unknown* paramaters (these may be random) to some to *known* parameters.\n",
        "\n",
        "or in other words from a poor representation of data to a good representation of data.\n",
        "\n",
        "One way to measure how poor or how wrong your models predictions are is to use loss functions.\n",
        "\n",
        "Thing we nee to train a model:\n",
        "\n",
        "* **Loss Function**: A function to measure how wrong a models predictions are to the ideal output. Lower the better.\n",
        "\n",
        "* **Optimizer**: Takes into account the loss of a model and adjusts the model's parameters(e.g. weight and bias) to improve the loss function.\n",
        "\n",
        "Inside the optimizer you will have:\n",
        "* params - the model parameters you had like to optimize. In our case it is params = model_0.parameters()\n",
        "* lr (learning rate) - the learning rate is a hyperparameter that defines how big/small the optimizer changes the parameters with each step (a small lr results in small change, a large lr will result in large change.)\n",
        "\n",
        "Specifically for PyTorch, we need:\n",
        "\n",
        "* A training loop\n",
        "* A testing loop\n"
      ],
      "metadata": {
        "id": "3VbRKWCR0z39"
      }
    },
    {
      "cell_type": "code",
      "source": [
        "list(model_0.parameters())"
      ],
      "metadata": {
        "colab": {
          "base_uri": "https://localhost:8080/"
        },
        "id": "95fA4zqDxk18",
        "outputId": "4ab3616f-bafc-41a1-d73a-f48d79f96fd3"
      },
      "execution_count": 17,
      "outputs": [
        {
          "output_type": "execute_result",
          "data": {
            "text/plain": [
              "[Parameter containing:\n",
              " tensor([0.8823], requires_grad=True),\n",
              " Parameter containing:\n",
              " tensor([0.9150], requires_grad=True)]"
            ]
          },
          "metadata": {},
          "execution_count": 17
        }
      ]
    },
    {
      "cell_type": "code",
      "source": [
        "#check out our model's parameters\n",
        "\n",
        "model_0.state_dict()"
      ],
      "metadata": {
        "colab": {
          "base_uri": "https://localhost:8080/"
        },
        "id": "t2UN-pGF2bCd",
        "outputId": "d1c55aa6-e8f7-4df3-d948-ea7e74c770b5"
      },
      "execution_count": 18,
      "outputs": [
        {
          "output_type": "execute_result",
          "data": {
            "text/plain": [
              "OrderedDict([('weights', tensor([0.8823])), ('bias', tensor([0.9150]))])"
            ]
          },
          "metadata": {},
          "execution_count": 18
        }
      ]
    },
    {
      "cell_type": "markdown",
      "source": [
        "### Setting up loss function and optimizer"
      ],
      "metadata": {
        "id": "te3xL2zy3-QA"
      }
    },
    {
      "cell_type": "code",
      "source": [
        "# Setup a loss function\n",
        "loss_fn = nn.L1Loss()\n",
        "\n",
        "\n",
        "\n",
        "# Setup an optimizer (stochastic gradient descent)\n",
        "optimizer = torch.optim.SGD(params = model_0.parameters(),\n",
        "                            lr = 0.01, #lr is learning rate = possibly the most important hyperparameter you can set.\n",
        "                            )"
      ],
      "metadata": {
        "id": "nOTffz4d2gh_"
      },
      "execution_count": 19,
      "outputs": []
    },
    {
      "cell_type": "code",
      "source": [
        "loss_fn"
      ],
      "metadata": {
        "colab": {
          "base_uri": "https://localhost:8080/"
        },
        "id": "HPx2r0Vr4tMW",
        "outputId": "8acd4b7b-c01d-4f1c-c5e2-d0f9d8c7c694"
      },
      "execution_count": 20,
      "outputs": [
        {
          "output_type": "execute_result",
          "data": {
            "text/plain": [
              "L1Loss()"
            ]
          },
          "metadata": {},
          "execution_count": 20
        }
      ]
    },
    {
      "cell_type": "code",
      "source": [
        "optimizer"
      ],
      "metadata": {
        "colab": {
          "base_uri": "https://localhost:8080/"
        },
        "id": "nS-20SEV4udU",
        "outputId": "21fa3e3b-d7f1-460b-ddda-e5f930100922"
      },
      "execution_count": 21,
      "outputs": [
        {
          "output_type": "execute_result",
          "data": {
            "text/plain": [
              "SGD (\n",
              "Parameter Group 0\n",
              "    dampening: 0\n",
              "    differentiable: False\n",
              "    foreach: None\n",
              "    fused: None\n",
              "    lr: 0.01\n",
              "    maximize: False\n",
              "    momentum: 0\n",
              "    nesterov: False\n",
              "    weight_decay: 0\n",
              ")"
            ]
          },
          "metadata": {},
          "execution_count": 21
        }
      ]
    },
    {
      "cell_type": "markdown",
      "source": [
        "## Building a training loop and a testing loop in PyTorch\n",
        "\n",
        "A couple of thing we need in a training loop:\n",
        "0. Loop throught the data\n",
        "1. Forward pass (this involves data moving through our model's forward()) - also called forward propagation\n",
        "2. Calculate the loss (compare forward pass predictions to ground truth labels)\n",
        "3. Optimizer zero grad\n",
        "4. Loss backward - move backwards throught the netowrk to calculate the gradients of each of the paramaeters of our model with respect to the loss (**backpropagation**)\n",
        "5. Optimizer Step - use the optimizer to adjust our model's parameters to try and improve the loss. (**gradient descent**)"
      ],
      "metadata": {
        "id": "GCGYieWAF5_A"
      }
    },
    {
      "cell_type": "code",
      "source": [
        "model_0.parameters()"
      ],
      "metadata": {
        "colab": {
          "base_uri": "https://localhost:8080/"
        },
        "id": "neakdVAmJBX-",
        "outputId": "97d95407-d1bd-4376-b9da-bb11859919b8"
      },
      "execution_count": 22,
      "outputs": [
        {
          "output_type": "execute_result",
          "data": {
            "text/plain": [
              "<generator object Module.parameters at 0x7827e174ee30>"
            ]
          },
          "metadata": {},
          "execution_count": 22
        }
      ]
    },
    {
      "cell_type": "code",
      "source": [
        "model_0.state_dict()"
      ],
      "metadata": {
        "colab": {
          "base_uri": "https://localhost:8080/"
        },
        "id": "adNhc1hjJEwt",
        "outputId": "2a9dc2d3-89a2-4029-f553-491d802d5b35"
      },
      "execution_count": 23,
      "outputs": [
        {
          "output_type": "execute_result",
          "data": {
            "text/plain": [
              "OrderedDict([('weights', tensor([0.8823])), ('bias', tensor([0.9150]))])"
            ]
          },
          "metadata": {},
          "execution_count": 23
        }
      ]
    },
    {
      "cell_type": "code",
      "source": [
        "torch.manual_seed(42)\n",
        "\n",
        "# An epoch is one loop through the data... (this is a hyperparameter because we have set it ourselves).\n",
        "\n",
        "epochs = 200\n",
        "\n",
        "#Track different values\n",
        "epoch_count = []\n",
        "loss_values = []\n",
        "test_loss_values = []\n",
        "\n",
        "### Training\n",
        "# loop throught the data\n",
        "for epoch in range(epochs):\n",
        "  # set the model to training mode\n",
        "  model_0.train() # train mode in PyTorch sets all parameters that require gradients to require gradients\n",
        "\n",
        "  # 1. Forward Pass\n",
        "  y_pred = model_0(X_train)\n",
        "\n",
        "  # 2.Calculate the loss\n",
        "  loss = loss_fn(y_pred, y_train)\n",
        "  print(f\"Loss:{loss}\")\n",
        "\n",
        "  #3. Optimizer zero grad\n",
        "  optimizer.zero_grad()\n",
        "\n",
        "  #4. Perform backpropagation on the loss with respect to the parameters of the model\n",
        "  loss.backward()\n",
        "\n",
        "  #5. Step the optimizer (perform gradient descent)\n",
        "  optimizer.step() # by default how the optimizer changes will accumulate throught the loop so we have to zero them above in step3 for the next iteration of the loop.\n",
        "\n",
        "\n",
        "  ### Testing\n",
        "  model_0.eval() # It turns off different settings in the model not needed for evaluating/testing (dropout/batch norm)\n",
        "  with torch.inference_mode(): #turns off gradient tracking and a couple more things behind the scenes.\n",
        "    # 1. Do the forward pass\n",
        "    test_pred = model_0(X_test)\n",
        "\n",
        "    #2. Calculate the loss\n",
        "    test_loss = loss_fn(test_pred, y_test)\n",
        "\n",
        "  if epoch % 10 == 0:\n",
        "    epoch_count.append(epoch)\n",
        "    loss_values.append(loss)\n",
        "    test_loss_values.append(test_loss)\n",
        "    print(f\"Epoch: {epoch} | Loss: {loss} | Test loss: {test_loss}\")\n",
        "    # Print our model state_dict()\n",
        "    print(model_0.state_dict())\n"
      ],
      "metadata": {
        "id": "5h8kecWa8SL6",
        "colab": {
          "base_uri": "https://localhost:8080/"
        },
        "outputId": "12ae33ac-c656-4b4f-ff8f-5b62a8fe8f23"
      },
      "execution_count": 24,
      "outputs": [
        {
          "output_type": "stream",
          "name": "stdout",
          "text": [
            "Loss:0.6080889701843262\n",
            "Epoch: 0 | Loss: 0.6080889701843262 | Test loss: 0.5857526659965515\n",
            "OrderedDict([('weights', tensor([0.8784])), ('bias', tensor([0.9050]))])\n",
            "Loss:0.5965679883956909\n",
            "Loss:0.5850470066070557\n",
            "Loss:0.5735260248184204\n",
            "Loss:0.5620050430297852\n",
            "Loss:0.5504840612411499\n",
            "Loss:0.5389630794525146\n",
            "Loss:0.5274420976638794\n",
            "Loss:0.5159210562705994\n",
            "Loss:0.5044001340866089\n",
            "Loss:0.49287909269332886\n",
            "Epoch: 10 | Loss: 0.49287909269332886 | Test loss: 0.4510428309440613\n",
            "OrderedDict([('weights', tensor([0.8394])), ('bias', tensor([0.8050]))])\n",
            "Loss:0.481358140707016\n",
            "Loss:0.46983709931373596\n",
            "Loss:0.4583161473274231\n",
            "Loss:0.44679516553878784\n",
            "Loss:0.4352741241455078\n",
            "Loss:0.42375317215919495\n",
            "Loss:0.4122322201728821\n",
            "Loss:0.40071120858192444\n",
            "Loss:0.3891902267932892\n",
            "Loss:0.37766918540000916\n",
            "Epoch: 20 | Loss: 0.37766918540000916 | Test loss: 0.31633299589157104\n",
            "OrderedDict([('weights', tensor([0.8004])), ('bias', tensor([0.7050]))])\n",
            "Loss:0.3661482632160187\n",
            "Loss:0.35462722182273865\n",
            "Loss:0.3431062400341034\n",
            "Loss:0.33158522844314575\n",
            "Loss:0.3200642764568329\n",
            "Loss:0.30854329466819763\n",
            "Loss:0.2970223128795624\n",
            "Loss:0.2855013310909271\n",
            "Loss:0.27398034930229187\n",
            "Loss:0.26245933771133423\n",
            "Epoch: 30 | Loss: 0.26245933771133423 | Test loss: 0.18162314593791962\n",
            "OrderedDict([('weights', tensor([0.7614])), ('bias', tensor([0.6050]))])\n",
            "Loss:0.250938355922699\n",
            "Loss:0.23941738903522491\n",
            "Loss:0.22789637744426727\n",
            "Loss:0.2163754254579544\n",
            "Loss:0.20485441386699677\n",
            "Loss:0.1933334320783615\n",
            "Loss:0.18181243538856506\n",
            "Loss:0.1702914535999298\n",
            "Loss:0.15877047181129456\n",
            "Loss:0.1472494900226593\n",
            "Epoch: 40 | Loss: 0.1472494900226593 | Test loss: 0.046913325786590576\n",
            "OrderedDict([('weights', tensor([0.7224])), ('bias', tensor([0.5050]))])\n",
            "Loss:0.13572849333286285\n",
            "Loss:0.1242074966430664\n",
            "Loss:0.11268651485443115\n",
            "Loss:0.1011655330657959\n",
            "Loss:0.08964454382658005\n",
            "Loss:0.0781235545873642\n",
            "Loss:0.0677693709731102\n",
            "Loss:0.060704924166202545\n",
            "Loss:0.055919598788022995\n",
            "Loss:0.05245697498321533\n",
            "Epoch: 50 | Loss: 0.05245697498321533 | Test loss: 0.06573481857776642\n",
            "OrderedDict([('weights', tensor([0.6930])), ('bias', tensor([0.4185]))])\n",
            "Loss:0.05001480504870415\n",
            "Loss:0.048087798058986664\n",
            "Loss:0.04657648876309395\n",
            "Loss:0.045384231954813004\n",
            "Loss:0.04444197937846184\n",
            "Loss:0.04360852763056755\n",
            "Loss:0.04290936142206192\n",
            "Loss:0.04237939789891243\n",
            "Loss:0.041849441826343536\n",
            "Loss:0.04134317860007286\n",
            "Epoch: 60 | Loss: 0.04134317860007286 | Test loss: 0.08720225840806961\n",
            "OrderedDict([('weights', tensor([0.7003])), ('bias', tensor([0.3905]))])\n",
            "Loss:0.04093049466609955\n",
            "Loss:0.04051779955625534\n",
            "Loss:0.04010510817170143\n",
            "Loss:0.03969452902674675\n",
            "Loss:0.03934171795845032\n",
            "Loss:0.03898891061544418\n",
            "Loss:0.03863609582185745\n",
            "Loss:0.03828328102827072\n",
            "Loss:0.03793046995997429\n",
            "Loss:0.03757766634225845\n",
            "Epoch: 70 | Loss: 0.03757766634225845 | Test loss: 0.0851384773850441\n",
            "OrderedDict([('weights', tensor([0.7156])), ('bias', tensor([0.3790]))])\n",
            "Loss:0.037224847823381424\n",
            "Loss:0.03687204048037529\n",
            "Loss:0.03651922196149826\n",
            "Loss:0.03616640716791153\n",
            "Loss:0.03581360727548599\n",
            "Loss:0.03546665981411934\n",
            "Loss:0.03512459993362427\n",
            "Loss:0.034781455993652344\n",
            "Loss:0.034435588866472244\n",
            "Loss:0.03409624472260475\n",
            "Epoch: 80 | Loss: 0.03409624472260475 | Test loss: 0.07892660051584244\n",
            "OrderedDict([('weights', tensor([0.7321])), ('bias', tensor([0.3705]))])\n",
            "Loss:0.03374726325273514\n",
            "Loss:0.03341037034988403\n",
            "Loss:0.033062051981687546\n",
            "Loss:0.03272136673331261\n",
            "Loss:0.03237685561180115\n",
            "Loss:0.032032351940870285\n",
            "Loss:0.031691648066043854\n",
            "Loss:0.03134334459900856\n",
            "Loss:0.031006455421447754\n",
            "Loss:0.030657436698675156\n",
            "Epoch: 90 | Loss: 0.030657436698675156 | Test loss: 0.07065404951572418\n",
            "OrderedDict([('weights', tensor([0.7493])), ('bias', tensor([0.3635]))])\n",
            "Loss:0.030318135395646095\n",
            "Loss:0.029972245916724205\n",
            "Loss:0.029629122465848923\n",
            "Loss:0.02928704023361206\n",
            "Loss:0.028940115123987198\n",
            "Loss:0.028601840138435364\n",
            "Loss:0.028252840042114258\n",
            "Loss:0.027914905920624733\n",
            "Loss:0.02756763994693756\n",
            "Loss:0.027225887402892113\n",
            "Epoch: 100 | Loss: 0.027225887402892113 | Test loss: 0.06306840479373932\n",
            "OrderedDict([('weights', tensor([0.7662])), ('bias', tensor([0.3560]))])\n",
            "Loss:0.026882439851760864\n",
            "Loss:0.026536891236901283\n",
            "Loss:0.02619723603129387\n",
            "Loss:0.025848234072327614\n",
            "Loss:0.025511672720313072\n",
            "Loss:0.025163035839796066\n",
            "Loss:0.024822667241096497\n",
            "Loss:0.024477828294038773\n",
            "Loss:0.024133648723363876\n",
            "Loss:0.02379263937473297\n",
            "Epoch: 110 | Loss: 0.02379263937473297 | Test loss: 0.05479584261775017\n",
            "OrderedDict([('weights', tensor([0.7834])), ('bias', tensor([0.3490]))])\n",
            "Loss:0.0234446432441473\n",
            "Loss:0.02310742810368538\n",
            "Loss:0.022758429870009422\n",
            "Loss:0.022419435903429985\n",
            "Loss:0.022073233500123024\n",
            "Loss:0.021730421110987663\n",
            "Loss:0.021388020366430283\n",
            "Loss:0.021041417494416237\n",
            "Loss:0.020702823996543884\n",
            "Loss:0.020353825762867928\n",
            "Epoch: 120 | Loss: 0.020353825762867928 | Test loss: 0.04652330279350281\n",
            "OrderedDict([('weights', tensor([0.8005])), ('bias', tensor([0.3420]))])\n",
            "Loss:0.020016204565763474\n",
            "Loss:0.01966862753033638\n",
            "Loss:0.0193271953612566\n",
            "Loss:0.018983425572514534\n",
            "Loss:0.018638184294104576\n",
            "Loss:0.018298227339982986\n",
            "Loss:0.017949219793081284\n",
            "Loss:0.017612973228096962\n",
            "Loss:0.017264017835259438\n",
            "Loss:0.016923964023590088\n",
            "Epoch: 130 | Loss: 0.016923964023590088 | Test loss: 0.03893765062093735\n",
            "OrderedDict([('weights', tensor([0.8175])), ('bias', tensor([0.3345]))])\n",
            "Loss:0.01657881960272789\n",
            "Loss:0.016234952956438065\n",
            "Loss:0.015893619507551193\n",
            "Loss:0.01554594375193119\n",
            "Loss:0.015208412893116474\n",
            "Loss:0.014859417453408241\n",
            "Loss:0.014520734548568726\n",
            "Loss:0.014174218289554119\n",
            "Loss:0.013831721618771553\n",
            "Loss:0.01348901353776455\n",
            "Epoch: 140 | Loss: 0.01348901353776455 | Test loss: 0.030665110796689987\n",
            "OrderedDict([('weights', tensor([0.8346])), ('bias', tensor([0.3275]))])\n",
            "Loss:0.013142714276909828\n",
            "Loss:0.012803813442587852\n",
            "Loss:0.012454810552299023\n",
            "Loss:0.012117499485611916\n",
            "Loss:0.011769610457122326\n",
            "Loss:0.01142849586904049\n",
            "Loss:0.011084405705332756\n",
            "Loss:0.010739479213953018\n",
            "Loss:0.010399207472801208\n",
            "Loss:0.010050473734736443\n",
            "Epoch: 150 | Loss: 0.010050473734736443 | Test loss: 0.023079466074705124\n",
            "OrderedDict([('weights', tensor([0.8516])), ('bias', tensor([0.3200]))])\n",
            "Loss:0.009714004583656788\n",
            "Loss:0.009365001693367958\n",
            "Loss:0.009025262668728828\n",
            "Loss:0.008679807186126709\n",
            "Loss:0.00833625067025423\n",
            "Loss:0.00799459870904684\n",
            "Loss:0.007647243794053793\n",
            "Loss:0.007309402339160442\n",
            "Loss:0.006960402242839336\n",
            "Loss:0.006622028537094593\n",
            "Epoch: 160 | Loss: 0.006622028537094593 | Test loss: 0.014806902036070824\n",
            "OrderedDict([('weights', tensor([0.8688])), ('bias', tensor([0.3130]))])\n",
            "Loss:0.00627520028501749\n",
            "Loss:0.0059330216608941555\n",
            "Loss:0.005589996464550495\n",
            "Loss:0.00524400919675827\n",
            "Loss:0.004904798232018948\n",
            "Loss:0.004555795341730118\n",
            "Loss:0.004218799527734518\n",
            "Loss:0.0038705915212631226\n",
            "Loss:0.0035297840368002653\n",
            "Loss:0.0031853937543928623\n",
            "Epoch: 170 | Loss: 0.0031853937543928623 | Test loss: 0.006534361746162176\n",
            "OrderedDict([('weights', tensor([0.8859])), ('bias', tensor([0.3060]))])\n",
            "Loss:0.0028407820500433445\n",
            "Loss:0.002500189933925867\n",
            "Loss:0.0021517693530768156\n",
            "Loss:0.001821909099817276\n",
            "Loss:0.001516213989816606\n",
            "Loss:0.001645243144594133\n",
            "Loss:0.005464212503284216\n",
            "Loss:0.006056776735931635\n",
            "Loss:0.005464212503284216\n",
            "Loss:0.006056776735931635\n",
            "Epoch: 180 | Loss: 0.006056776735931635 | Test loss: 0.0041294218972325325\n",
            "OrderedDict([('weights', tensor([0.8973])), ('bias', tensor([0.3065]))])\n",
            "Loss:0.005464212503284216\n",
            "Loss:0.006056776735931635\n",
            "Loss:0.005464212503284216\n",
            "Loss:0.006056776735931635\n",
            "Loss:0.005464212503284216\n",
            "Loss:0.006056776735931635\n",
            "Loss:0.005464212503284216\n",
            "Loss:0.006056776735931635\n",
            "Loss:0.005464212503284216\n",
            "Loss:0.006056776735931635\n",
            "Epoch: 190 | Loss: 0.006056776735931635 | Test loss: 0.0041294218972325325\n",
            "OrderedDict([('weights', tensor([0.8973])), ('bias', tensor([0.3065]))])\n",
            "Loss:0.005464212503284216\n",
            "Loss:0.006056776735931635\n",
            "Loss:0.005464212503284216\n",
            "Loss:0.006056776735931635\n",
            "Loss:0.005464212503284216\n",
            "Loss:0.006056776735931635\n",
            "Loss:0.005464212503284216\n",
            "Loss:0.006056776735931635\n",
            "Loss:0.005464212503284216\n"
          ]
        }
      ]
    },
    {
      "cell_type": "code",
      "source": [
        "epoch_count, loss_values, test_loss_values"
      ],
      "metadata": {
        "colab": {
          "base_uri": "https://localhost:8080/"
        },
        "id": "xhxJc7lUwtsV",
        "outputId": "8bdf1bbc-94b3-4f34-deb0-07194ed6e184"
      },
      "execution_count": 25,
      "outputs": [
        {
          "output_type": "execute_result",
          "data": {
            "text/plain": [
              "([0,\n",
              "  10,\n",
              "  20,\n",
              "  30,\n",
              "  40,\n",
              "  50,\n",
              "  60,\n",
              "  70,\n",
              "  80,\n",
              "  90,\n",
              "  100,\n",
              "  110,\n",
              "  120,\n",
              "  130,\n",
              "  140,\n",
              "  150,\n",
              "  160,\n",
              "  170,\n",
              "  180,\n",
              "  190],\n",
              " [tensor(0.6081, grad_fn=<MeanBackward0>),\n",
              "  tensor(0.4929, grad_fn=<MeanBackward0>),\n",
              "  tensor(0.3777, grad_fn=<MeanBackward0>),\n",
              "  tensor(0.2625, grad_fn=<MeanBackward0>),\n",
              "  tensor(0.1472, grad_fn=<MeanBackward0>),\n",
              "  tensor(0.0525, grad_fn=<MeanBackward0>),\n",
              "  tensor(0.0413, grad_fn=<MeanBackward0>),\n",
              "  tensor(0.0376, grad_fn=<MeanBackward0>),\n",
              "  tensor(0.0341, grad_fn=<MeanBackward0>),\n",
              "  tensor(0.0307, grad_fn=<MeanBackward0>),\n",
              "  tensor(0.0272, grad_fn=<MeanBackward0>),\n",
              "  tensor(0.0238, grad_fn=<MeanBackward0>),\n",
              "  tensor(0.0204, grad_fn=<MeanBackward0>),\n",
              "  tensor(0.0169, grad_fn=<MeanBackward0>),\n",
              "  tensor(0.0135, grad_fn=<MeanBackward0>),\n",
              "  tensor(0.0101, grad_fn=<MeanBackward0>),\n",
              "  tensor(0.0066, grad_fn=<MeanBackward0>),\n",
              "  tensor(0.0032, grad_fn=<MeanBackward0>),\n",
              "  tensor(0.0061, grad_fn=<MeanBackward0>),\n",
              "  tensor(0.0061, grad_fn=<MeanBackward0>)],\n",
              " [tensor(0.5858),\n",
              "  tensor(0.4510),\n",
              "  tensor(0.3163),\n",
              "  tensor(0.1816),\n",
              "  tensor(0.0469),\n",
              "  tensor(0.0657),\n",
              "  tensor(0.0872),\n",
              "  tensor(0.0851),\n",
              "  tensor(0.0789),\n",
              "  tensor(0.0707),\n",
              "  tensor(0.0631),\n",
              "  tensor(0.0548),\n",
              "  tensor(0.0465),\n",
              "  tensor(0.0389),\n",
              "  tensor(0.0307),\n",
              "  tensor(0.0231),\n",
              "  tensor(0.0148),\n",
              "  tensor(0.0065),\n",
              "  tensor(0.0041),\n",
              "  tensor(0.0041)])"
            ]
          },
          "metadata": {},
          "execution_count": 25
        }
      ]
    },
    {
      "cell_type": "code",
      "source": [
        "# Plot the loss curves\n",
        "\n",
        "import numpy as np\n",
        "\n",
        "plt.plot(epoch_count, np.array(torch.tensor(loss_values).numpy()), label=\"Train loss\")\n",
        "plt.plot(epoch_count, test_loss_values, label=\"Test Loss\")\n",
        "plt.title(\"Training and Test Loss Curves\")\n",
        "plt.ylabel(\"Loss\")\n",
        "plt.xlabel(\"Epochs\")\n",
        "plt.legend()"
      ],
      "metadata": {
        "colab": {
          "base_uri": "https://localhost:8080/",
          "height": 489
        },
        "id": "Eui7KF99wliP",
        "outputId": "9693cf34-14e0-4c96-970f-e2f278919734"
      },
      "execution_count": 26,
      "outputs": [
        {
          "output_type": "execute_result",
          "data": {
            "text/plain": [
              "<matplotlib.legend.Legend at 0x7827e14cae30>"
            ]
          },
          "metadata": {},
          "execution_count": 26
        },
        {
          "output_type": "display_data",
          "data": {
            "text/plain": [
              "<Figure size 640x480 with 1 Axes>"
            ],
            "image/png": "[encoded data removed]"
          },
          "metadata": {}
        }
      ]
    },
    {
      "cell_type": "code",
      "source": [
        "weight, bias"
      ],
      "metadata": {
        "colab": {
          "base_uri": "https://localhost:8080/"
        },
        "id": "xrAtauNAkYRt",
        "outputId": "39985d23-75c1-4d70-8314-54c083970e32"
      },
      "execution_count": 182,
      "outputs": [
        {
          "output_type": "execute_result",
          "data": {
            "text/plain": [
              "(0.9, 0.3)"
            ]
          },
          "metadata": {},
          "execution_count": 182
        }
      ]
    },
    {
      "cell_type": "code",
      "source": [
        "model_0.state_dict()"
      ],
      "metadata": {
        "colab": {
          "base_uri": "https://localhost:8080/"
        },
        "id": "f4oiecdmt1CV",
        "outputId": "1385bf2f-da8c-42a9-bdd8-c1d346b10971"
      },
      "execution_count": 27,
      "outputs": [
        {
          "output_type": "execute_result",
          "data": {
            "text/plain": [
              "OrderedDict([('weights', tensor([0.8934])), ('bias', tensor([0.2965]))])"
            ]
          },
          "metadata": {},
          "execution_count": 27
        }
      ]
    },
    {
      "cell_type": "code",
      "source": [
        "with torch.inference_mode():\n",
        "  y_preds_new = model_0(X_test)"
      ],
      "metadata": {
        "id": "75bgaUrtl7JS"
      },
      "execution_count": 28,
      "outputs": []
    },
    {
      "cell_type": "code",
      "source": [
        "plot_predictions(predictions=y_preds_new)"
      ],
      "metadata": {
        "colab": {
          "base_uri": "https://localhost:8080/",
          "height": 599
        },
        "id": "zgucteYQoSYK",
        "outputId": "390f4832-2be5-4ec5-8adc-7e6ed57174a1"
      },
      "execution_count": 29,
      "outputs": [
        {
          "output_type": "display_data",
          "data": {
            "text/plain": [
              "<Figure size 1000x700 with 1 Axes>"
            ],
            "image/png": "[encoded data removed]"
          },
          "metadata": {}
        }
      ]
    },
    {
      "cell_type": "markdown",
      "source": [
        "## Saving a model in PyTorch\n",
        "\n",
        "There are three main methods to saving and loading the model in PyTorh.\n",
        "\n",
        "1. `torch.save()` - allows you to save a PyTorch object in Python's pickle format.\n",
        "\n",
        "2. `torch.load()` - allows you to load a saved PyTorch object.\n",
        "\n",
        "3. `torch.nn.Module.load_state_dict()` - this allows you to load a model's saved state dictionary"
      ],
      "metadata": {
        "id": "Rb5fINXfMwZz"
      }
    },
    {
      "cell_type": "code",
      "source": [
        "model_0.state_dict()"
      ],
      "metadata": {
        "colab": {
          "base_uri": "https://localhost:8080/"
        },
        "id": "vua23GDMoaZ1",
        "outputId": "6aff64f0-cab4-422c-b611-610d2fb3d85b"
      },
      "execution_count": 30,
      "outputs": [
        {
          "output_type": "execute_result",
          "data": {
            "text/plain": [
              "OrderedDict([('weights', tensor([0.8934])), ('bias', tensor([0.2965]))])"
            ]
          },
          "metadata": {},
          "execution_count": 30
        }
      ]
    },
    {
      "cell_type": "code",
      "source": [
        "# Saving our PyTorch model\n",
        "\n",
        "from pathlib import Path\n",
        "\n",
        "# 1. Create models directory\n",
        "MODEL_PATH = Path(\"models\")\n",
        "MODEL_PATH.mkdir(parents=True, exist_ok=True)\n",
        "\n",
        "#2. Create model save path\n",
        "MODEL_NAME = \"01_pytorch_workflow_model_0.pth\"\n",
        "MODEL_SAVE_PATH = MODEL_PATH / MODEL_NAME\n",
        "\n",
        "#3. Save the model state dict\n",
        "print(f\"Saving model to: {MODEL_SAVE_PATH}\")\n",
        "torch.save(obj=model_0.state_dict(), f=MODEL_SAVE_PATH)"
      ],
      "metadata": {
        "colab": {
          "base_uri": "https://localhost:8080/"
        },
        "id": "ke_lpDtUNhHo",
        "outputId": "2558f0d9-510a-4cf4-fae7-513c243b2455"
      },
      "execution_count": 43,
      "outputs": [
        {
          "output_type": "stream",
          "name": "stdout",
          "text": [
            "Saving model to: models/01_pytorch_workflow_model_0.pth\n"
          ]
        }
      ]
    },
    {
      "cell_type": "code",
      "source": [
        "!ls -l models"
      ],
      "metadata": {
        "colab": {
          "base_uri": "https://localhost:8080/"
        },
        "id": "W6O428QAPOKC",
        "outputId": "a8c26d15-131e-41ca-cef3-790810ba2a0e"
      },
      "execution_count": 44,
      "outputs": [
        {
          "output_type": "stream",
          "name": "stdout",
          "text": [
            "total 4\n",
            "-rw-r--r-- 1 root root 1680 Jul 15 07:30 01_pytorch_workflow_model_0.pth\n"
          ]
        }
      ]
    },
    {
      "cell_type": "markdown",
      "source": [
        "## Loading a PyTorch model\n",
        "\n",
        "Since we saved our model's `state_dict()` rather than the entire mode, we wil create a new instance of our model class and load the saved `state_dict()` into that."
      ],
      "metadata": {
        "id": "dpb9fgHKQwNO"
      }
    },
    {
      "cell_type": "code",
      "source": [
        "model_0.state_dict()"
      ],
      "metadata": {
        "colab": {
          "base_uri": "https://localhost:8080/"
        },
        "id": "X4A2pkfKQNEE",
        "outputId": "235baa5c-958e-44fb-c2e5-cd6e70bc7eb9"
      },
      "execution_count": 45,
      "outputs": [
        {
          "output_type": "execute_result",
          "data": {
            "text/plain": [
              "OrderedDict([('weights', tensor([0.8934])), ('bias', tensor([0.2965]))])"
            ]
          },
          "metadata": {},
          "execution_count": 45
        }
      ]
    },
    {
      "cell_type": "code",
      "source": [
        "# To load in a saved state_dict we have to instantiate a new instance of our model class\n",
        "\n",
        "loaded_model_0 = LinearRegressionModel()\n",
        "\n",
        "# Load the saved state_dict of model_0 (this will update the new instance of our model with the updated parameters)\n",
        "loaded_model_0.load_state_dict(torch.load(f=MODEL_SAVE_PATH))"
      ],
      "metadata": {
        "colab": {
          "base_uri": "https://localhost:8080/"
        },
        "id": "6a68IYKfRNMX",
        "outputId": "e76c3ab6-ffa8-444d-d6af-5b3f7e0ccac9"
      },
      "execution_count": 46,
      "outputs": [
        {
          "output_type": "execute_result",
          "data": {
            "text/plain": [
              "<All keys matched successfully>"
            ]
          },
          "metadata": {},
          "execution_count": 46
        }
      ]
    },
    {
      "cell_type": "code",
      "source": [
        "loaded_model_0.state_dict()"
      ],
      "metadata": {
        "colab": {
          "base_uri": "https://localhost:8080/"
        },
        "id": "OpiOpmPiRy-R",
        "outputId": "52469ef7-82bc-4deb-ae27-66e3510a2940"
      },
      "execution_count": 47,
      "outputs": [
        {
          "output_type": "execute_result",
          "data": {
            "text/plain": [
              "OrderedDict([('weights', tensor([0.8934])), ('bias', tensor([0.2965]))])"
            ]
          },
          "metadata": {},
          "execution_count": 47
        }
      ]
    },
    {
      "cell_type": "code",
      "source": [
        "# Make some predictions with our loaded model\n",
        "\n",
        "loaded_model_0.eval()\n",
        "with torch.inference_mode():\n",
        "  loaded_model_preds = loaded_model_0(X_test)\n",
        "loaded_model_preds"
      ],
      "metadata": {
        "colab": {
          "base_uri": "https://localhost:8080/"
        },
        "id": "Gm0qwUI2R2iC",
        "outputId": "c7334289-3cf7-479a-f773-5a66abb331ab"
      },
      "execution_count": 48,
      "outputs": [
        {
          "output_type": "execute_result",
          "data": {
            "text/plain": [
              "tensor([[1.0112],\n",
              "        [1.0291],\n",
              "        [1.0470],\n",
              "        [1.0649],\n",
              "        [1.0827],\n",
              "        [1.1006],\n",
              "        [1.1185],\n",
              "        [1.1363],\n",
              "        [1.1542],\n",
              "        [1.1721]])"
            ]
          },
          "metadata": {},
          "execution_count": 48
        }
      ]
    },
    {
      "cell_type": "code",
      "source": [
        "# Compare loaded model preds with original model preds\n",
        "y_preds_new == loaded_model_preds"
      ],
      "metadata": {
        "colab": {
          "base_uri": "https://localhost:8080/"
        },
        "id": "s5KF2dQCTqDm",
        "outputId": "4488e786-7668-4fda-9f5c-328738ac0823"
      },
      "execution_count": 50,
      "outputs": [
        {
          "output_type": "execute_result",
          "data": {
            "text/plain": [
              "tensor([[True],\n",
              "        [True],\n",
              "        [True],\n",
              "        [True],\n",
              "        [True],\n",
              "        [True],\n",
              "        [True],\n",
              "        [True],\n",
              "        [True],\n",
              "        [True]])"
            ]
          },
          "metadata": {},
          "execution_count": 50
        }
      ]
    },
    {
      "cell_type": "code",
      "source": [],
      "metadata": {
        "id": "mQ47GcSEiMWM"
      },
      "execution_count": null,
      "outputs": []
    },
    {
      "cell_type": "code",
      "source": [],
      "metadata": {
        "id": "VUdL6FUoiMYW"
      },
      "execution_count": null,
      "outputs": []
    },
    {
      "cell_type": "code",
      "source": [],
      "metadata": {
        "id": "c0YMy5EuiMax"
      },
      "execution_count": null,
      "outputs": []
    },
    {
      "cell_type": "code",
      "source": [],
      "metadata": {
        "id": "EUDXj4HliMc2"
      },
      "execution_count": null,
      "outputs": []
    },
    {
      "cell_type": "code",
      "source": [],
      "metadata": {
        "id": "86ak2HUpiMe7"
      },
      "execution_count": null,
      "outputs": []
    },
    {
      "cell_type": "code",
      "source": [],
      "metadata": {
        "id": "lgEjXWSiiMiC"
      },
      "execution_count": null,
      "outputs": []
    },
    {
      "cell_type": "markdown",
      "source": [
        "# 6. Putting it all together\n",
        "\n",
        "Let's got back through the steps above and see it all in one place"
      ],
      "metadata": {
        "id": "RBA84AM5UocI"
      }
    },
    {
      "cell_type": "code",
      "source": [
        "import torch\n",
        "from torch import nn\n",
        "import matplotlib.pyplot as plt\n",
        "import numpy as np"
      ],
      "metadata": {
        "id": "9sovZgptTyAi"
      },
      "execution_count": 1,
      "outputs": []
    },
    {
      "cell_type": "code",
      "source": [
        "# checking pytorch version\n",
        "\n",
        "torch.__version__"
      ],
      "metadata": {
        "colab": {
          "base_uri": "https://localhost:8080/",
          "height": 35
        },
        "id": "RW3fUVO1VXil",
        "outputId": "02ff11b3-0dcf-43b4-b5a4-b1baf5c702a8"
      },
      "execution_count": 2,
      "outputs": [
        {
          "output_type": "execute_result",
          "data": {
            "text/plain": [
              "'2.3.0+cu121'"
            ],
            "application/vnd.google.colaboratory.intrinsic+json": {
              "type": "string"
            }
          },
          "metadata": {},
          "execution_count": 2
        }
      ]
    },
    {
      "cell_type": "markdown",
      "source": [
        "Create device-agnostic code.\n",
        "\n",
        "This means if we have got access to GPU, our code will use it (for potentially faster computing). If no GPU available the code will use CPU by default."
      ],
      "metadata": {
        "id": "4m2SDmxHfD8g"
      }
    },
    {
      "cell_type": "code",
      "source": [
        "# setup device agnostic code\n",
        "device = \"cuda\" if torch.cuda.is_available() else \"cpu\"\n",
        "print(f\"Using device: {device}\")"
      ],
      "metadata": {
        "colab": {
          "base_uri": "https://localhost:8080/"
        },
        "id": "e_5vhR4tVtFE",
        "outputId": "8189598e-1715-4eca-e3de-f705b47efe1b"
      },
      "execution_count": 3,
      "outputs": [
        {
          "output_type": "stream",
          "name": "stdout",
          "text": [
            "Using device: cuda\n"
          ]
        }
      ]
    },
    {
      "cell_type": "code",
      "source": [
        "!nvidia-smi"
      ],
      "metadata": {
        "colab": {
          "base_uri": "https://localhost:8080/"
        },
        "id": "mYELlLjefd-5",
        "outputId": "c3029bae-a36f-40d4-ab23-33e66d11e7ac"
      },
      "execution_count": 4,
      "outputs": [
        {
          "output_type": "stream",
          "name": "stdout",
          "text": [
            "Wed Jul 17 07:01:38 2024       \n",
            "+---------------------------------------------------------------------------------------+\n",
            "| NVIDIA-SMI 535.104.05             Driver Version: 535.104.05   CUDA Version: 12.2     |\n",
            "|-----------------------------------------+----------------------+----------------------+\n",
            "| GPU  Name                 Persistence-M | Bus-Id        Disp.A | Volatile Uncorr. ECC |\n",
            "| Fan  Temp   Perf          Pwr:Usage/Cap |         Memory-Usage | GPU-Util  Compute M. |\n",
            "|                                         |                      |               MIG M. |\n",
            "|=========================================+======================+======================|\n",
            "|   0  Tesla T4                       Off | 00000000:00:04.0 Off |                    0 |\n",
            "| N/A   63C    P8              11W /  70W |      3MiB / 15360MiB |      0%      Default |\n",
            "|                                         |                      |                  N/A |\n",
            "+-----------------------------------------+----------------------+----------------------+\n",
            "                                                                                         \n",
            "+---------------------------------------------------------------------------------------+\n",
            "| Processes:                                                                            |\n",
            "|  GPU   GI   CI        PID   Type   Process name                            GPU Memory |\n",
            "|        ID   ID                                                             Usage      |\n",
            "|=======================================================================================|\n",
            "|  No running processes found                                                           |\n",
            "+---------------------------------------------------------------------------------------+\n"
          ]
        }
      ]
    },
    {
      "cell_type": "markdown",
      "source": [
        "## 6.1 Data"
      ],
      "metadata": {
        "id": "uO8BORjEf1a1"
      }
    },
    {
      "cell_type": "code",
      "source": [
        "# Create some data using the linear regression formula of y = weight * X + bias\n",
        "\n",
        "weight = 0.7\n",
        "bias = 0.3\n",
        "\n",
        "#create range values\n",
        "start = 0\n",
        "end = 1\n",
        "step = 0.02\n",
        "\n",
        "#Create X and y (features and labels)\n",
        "X = torch.arange(start,end, step).unsqueeze(dim=1) #without unsqueeze errors will pop up\n",
        "y = weight * X + bias\n",
        "\n",
        "X[:10], y[:10]"
      ],
      "metadata": {
        "colab": {
          "base_uri": "https://localhost:8080/"
        },
        "id": "MDQl6VfCfxaM",
        "outputId": "5e820570-de86-4fce-83cb-197e9a6f28ed"
      },
      "execution_count": 100,
      "outputs": [
        {
          "output_type": "execute_result",
          "data": {
            "text/plain": [
              "(tensor([[0.0000],\n",
              "         [0.0200],\n",
              "         [0.0400],\n",
              "         [0.0600],\n",
              "         [0.0800],\n",
              "         [0.1000],\n",
              "         [0.1200],\n",
              "         [0.1400],\n",
              "         [0.1600],\n",
              "         [0.1800]]),\n",
              " tensor([[0.3000],\n",
              "         [0.3140],\n",
              "         [0.3280],\n",
              "         [0.3420],\n",
              "         [0.3560],\n",
              "         [0.3700],\n",
              "         [0.3840],\n",
              "         [0.3980],\n",
              "         [0.4120],\n",
              "         [0.4260]]))"
            ]
          },
          "metadata": {},
          "execution_count": 100
        }
      ]
    },
    {
      "cell_type": "code",
      "source": [
        "# Split data\n",
        "\n",
        "train_split = int(0.8 * len(X))\n",
        "\n",
        "X_train, y_train = X[:train_split], y[:train_split]\n",
        "X_test, y_test = X[train_split:], y[train_split:]"
      ],
      "metadata": {
        "id": "QOe7w28mgpG6"
      },
      "execution_count": 101,
      "outputs": []
    },
    {
      "cell_type": "code",
      "source": [
        "len(X_train), len(y_train), len(X_test), len(y_test)"
      ],
      "metadata": {
        "colab": {
          "base_uri": "https://localhost:8080/"
        },
        "id": "Sq1jyVXRg_6x",
        "outputId": "da299860-2843-4b1f-88b0-e8966be5806d"
      },
      "execution_count": 7,
      "outputs": [
        {
          "output_type": "execute_result",
          "data": {
            "text/plain": [
              "(40, 40, 10, 10)"
            ]
          },
          "metadata": {},
          "execution_count": 7
        }
      ]
    },
    {
      "cell_type": "code",
      "source": [
        "# Creating a function for plotting the predictions and data\n",
        "\n",
        "def plot_predictions(train_data = X_train, train_labels = y_train,\n",
        "                     test_data = X_test, test_labels = y_test,\n",
        "                     predictions = None):\n",
        "  plt.figure(figsize=(10,7))\n",
        "\n",
        "  #Plot training data in blue\n",
        "  plt.scatter(train_data, train_labels, c=\"b\", s=4, label=\"Training data\")\n",
        "\n",
        "  #Plot test data in green\n",
        "  plt.scatter(test_data, test_labels, c=\"g\", s=4, label=\"Testing data\")\n",
        "\n",
        "  #Are there predictions ?\n",
        "  if predictions is not None:\n",
        "    # Plot the predictions if they exist\n",
        "    plt.scatter(test_data, predictions, c=\"r\",s=4, label=\"Predictions\")\n",
        "\n",
        "    #show lengend\n",
        "    plt.legend(prop={\"size\":14})"
      ],
      "metadata": {
        "id": "iXXgYP3FhI6d"
      },
      "execution_count": 102,
      "outputs": []
    },
    {
      "cell_type": "code",
      "source": [
        "# Plot the data\n",
        "\n",
        "plot_predictions()"
      ],
      "metadata": {
        "colab": {
          "base_uri": "https://localhost:8080/",
          "height": 599
        },
        "id": "3R_Si8yrhlyq",
        "outputId": "ace4167d-4b5c-4468-886f-3d79f6ea5d36"
      },
      "execution_count": 103,
      "outputs": [
        {
          "output_type": "display_data",
          "data": {
            "text/plain": [
              "<Figure size 1000x700 with 1 Axes>"
            ],
            "image/png": "[encoded data removed]"
          },
          "metadata": {}
        }
      ]
    },
    {
      "cell_type": "markdown",
      "source": [
        "## 6.2 Building a PyTorch Linear Model\n",
        "\n",
        "We don't have to describe the parameters ourselves. We will use nn.Linear()."
      ],
      "metadata": {
        "id": "gnvWnfgSh-5P"
      }
    },
    {
      "cell_type": "code",
      "source": [
        "class LinearRegressionModel(nn.Module):\n",
        "  def __init__(self):\n",
        "    super().__init__()\n",
        "\n",
        "    # Use nn.Linear() for creating the model parameters / also called linear transform, probbling layer, fully connected layer, Dense Layer\n",
        "    self.linear_layer = nn.Linear(in_features=1,\n",
        "                                  out_features=1) #we have one input for one output\n",
        "\n",
        "\n",
        "  def forward(self, x: torch.Tensor) -> torch.Tensor:\n",
        "    return self.linear_layer(x)"
      ],
      "metadata": {
        "id": "hc2VtQz3ho2g"
      },
      "execution_count": 104,
      "outputs": []
    },
    {
      "cell_type": "code",
      "source": [
        "#Instantiating the model and using manual seed for reproductibility.\n",
        "\n",
        "torch.manual_seed(42)\n",
        "\n",
        "model_1 = LinearRegressionModel()"
      ],
      "metadata": {
        "id": "Xr8nKGIYie7R"
      },
      "execution_count": 105,
      "outputs": []
    },
    {
      "cell_type": "code",
      "source": [
        "model_1"
      ],
      "metadata": {
        "colab": {
          "base_uri": "https://localhost:8080/"
        },
        "id": "KheTXnetmqpt",
        "outputId": "f59bfd8c-fd55-4edb-a530-fb41a5dd355c"
      },
      "execution_count": 106,
      "outputs": [
        {
          "output_type": "execute_result",
          "data": {
            "text/plain": [
              "LinearRegressionModel(\n",
              "  (linear_layer): Linear(in_features=1, out_features=1, bias=True)\n",
              ")"
            ]
          },
          "metadata": {},
          "execution_count": 106
        }
      ]
    },
    {
      "cell_type": "code",
      "source": [
        "model_1.state_dict()"
      ],
      "metadata": {
        "colab": {
          "base_uri": "https://localhost:8080/"
        },
        "id": "j_aKWVSqjdGa",
        "outputId": "7dc6e11b-ce93-4c4b-d9e2-a37cb06df007"
      },
      "execution_count": 107,
      "outputs": [
        {
          "output_type": "execute_result",
          "data": {
            "text/plain": [
              "OrderedDict([('linear_layer.weight', tensor([[0.7645]])),\n",
              "             ('linear_layer.bias', tensor([0.8300]))])"
            ]
          },
          "metadata": {},
          "execution_count": 107
        }
      ]
    },
    {
      "cell_type": "code",
      "source": [
        "list(model_1.parameters())"
      ],
      "metadata": {
        "colab": {
          "base_uri": "https://localhost:8080/"
        },
        "id": "KPVTtxC1jv1f",
        "outputId": "4496ad7d-4b1a-42c7-b3fa-e1c61827e6a8"
      },
      "execution_count": 108,
      "outputs": [
        {
          "output_type": "execute_result",
          "data": {
            "text/plain": [
              "[Parameter containing:\n",
              " tensor([[0.7645]], requires_grad=True),\n",
              " Parameter containing:\n",
              " tensor([0.8300], requires_grad=True)]"
            ]
          },
          "metadata": {},
          "execution_count": 108
        }
      ]
    },
    {
      "cell_type": "markdown",
      "source": [
        "## 6.3 Sending the model to the agnostic device"
      ],
      "metadata": {
        "id": "gANuq6uNoX5b"
      }
    },
    {
      "cell_type": "code",
      "source": [
        "# Check the model current device\n",
        "next(model_1.parameters()).device"
      ],
      "metadata": {
        "colab": {
          "base_uri": "https://localhost:8080/"
        },
        "id": "IqH-55jAn07B",
        "outputId": "63ed7320-99e2-4eb3-daec-0c7deea381a2"
      },
      "execution_count": 109,
      "outputs": [
        {
          "output_type": "execute_result",
          "data": {
            "text/plain": [
              "device(type='cpu')"
            ]
          },
          "metadata": {},
          "execution_count": 109
        }
      ]
    },
    {
      "cell_type": "code",
      "source": [
        "# set the model to use the target device\n",
        "\n",
        "model_1.to(device)\n",
        "\n",
        "next(model_1.parameters()).device"
      ],
      "metadata": {
        "colab": {
          "base_uri": "https://localhost:8080/"
        },
        "id": "we4S81Ajj0nD",
        "outputId": "87fa2a30-5c5a-4215-e21f-34aff15848fc"
      },
      "execution_count": 110,
      "outputs": [
        {
          "output_type": "execute_result",
          "data": {
            "text/plain": [
              "device(type='cuda', index=0)"
            ]
          },
          "metadata": {},
          "execution_count": 110
        }
      ]
    },
    {
      "cell_type": "markdown",
      "source": [
        "## 6.4 Training the model\n",
        "\n",
        "For training we need:\n",
        "* Loss Function\n",
        "* Optimizer\n",
        "* Training Loop\n",
        "* Testing Loop"
      ],
      "metadata": {
        "id": "qHNOFVvVoSFh"
      }
    },
    {
      "cell_type": "code",
      "source": [
        "loss_fn = nn.L1Loss()\n",
        "\n",
        "optimizer = torch.optim.SGD(params = model_1.parameters(), lr = 0.01)"
      ],
      "metadata": {
        "id": "_RPviQtpoLKQ"
      },
      "execution_count": 111,
      "outputs": []
    },
    {
      "cell_type": "code",
      "source": [
        "loss_fn"
      ],
      "metadata": {
        "colab": {
          "base_uri": "https://localhost:8080/"
        },
        "id": "WZAE_KMXpe3w",
        "outputId": "a32554c7-8c86-4548-bd94-278ad74627bb"
      },
      "execution_count": 112,
      "outputs": [
        {
          "output_type": "execute_result",
          "data": {
            "text/plain": [
              "L1Loss()"
            ]
          },
          "metadata": {},
          "execution_count": 112
        }
      ]
    },
    {
      "cell_type": "code",
      "source": [
        "optimizer"
      ],
      "metadata": {
        "colab": {
          "base_uri": "https://localhost:8080/"
        },
        "id": "Np-wTg8Hpiv2",
        "outputId": "ddbdb731-b8a5-43e2-d236-12838f00a481"
      },
      "execution_count": 113,
      "outputs": [
        {
          "output_type": "execute_result",
          "data": {
            "text/plain": [
              "SGD (\n",
              "Parameter Group 0\n",
              "    dampening: 0\n",
              "    differentiable: False\n",
              "    foreach: None\n",
              "    fused: None\n",
              "    lr: 0.01\n",
              "    maximize: False\n",
              "    momentum: 0\n",
              "    nesterov: False\n",
              "    weight_decay: 0\n",
              ")"
            ]
          },
          "metadata": {},
          "execution_count": 113
        }
      ]
    },
    {
      "cell_type": "code",
      "source": [
        "# Training Loop\n",
        "\n",
        "torch.manual_seed(42)\n",
        "\n",
        "epochs = 200\n",
        "\n",
        "#Track different values\n",
        "epoch_count = []\n",
        "train_loss_values = []\n",
        "test_loss_values = []\n",
        "\n",
        "# Put data on the target device (device agnostic code for data)\n",
        "X_train = X_train.to(device)\n",
        "y_train = y_train.to(device)\n",
        "X_test = X_test.to(device)\n",
        "y_test = y_test.to(device)\n",
        "\n",
        "for epoch in range(epochs):\n",
        "  model_1.train()\n",
        "\n",
        "  # 1. Forward pass\n",
        "  y_train_preds = model_1(X_train)\n",
        "\n",
        "  # 2. Calculate the loss\n",
        "  train_loss = loss_fn(y_train_preds, y_train)\n",
        "\n",
        "  # 3. Optimizer zero grad\n",
        "  optimizer.zero_grad()\n",
        "\n",
        "  #4. Perform Backpropagation\n",
        "  train_loss.backward()\n",
        "\n",
        "  #5. Optimizer step\n",
        "  optimizer.step()\n",
        "\n",
        "  #### TESTING ###\n",
        "\n",
        "  model_1.eval()\n",
        "\n",
        "  with torch.inference_mode():\n",
        "    y_test_preds = model_1(X_test)\n",
        "\n",
        "    test_loss = loss_fn(y_test_preds, y_test)\n",
        "\n",
        "  if epoch % 10 == 0:\n",
        "    epoch_count.append(epoch)\n",
        "    train_loss_values.append(train_loss)\n",
        "    test_loss_values.append(test_loss)\n",
        "    print(f\"Epoch: {epoch} | Training Loss: {train_loss} | Test Loss: {test_loss}\")\n"
      ],
      "metadata": {
        "colab": {
          "base_uri": "https://localhost:8080/"
        },
        "id": "NI9xPfhApj-h",
        "outputId": "f3fac3d8-d70b-4fd5-fbfd-c52a82cdd9d1"
      },
      "execution_count": 114,
      "outputs": [
        {
          "output_type": "stream",
          "name": "stdout",
          "text": [
            "Epoch: 0 | Training Loss: 0.5551779866218567 | Test Loss: 0.5739762187004089\n",
            "Epoch: 10 | Training Loss: 0.439968079328537 | Test Loss: 0.4392664134502411\n",
            "Epoch: 20 | Training Loss: 0.3247582018375397 | Test Loss: 0.30455657839775085\n",
            "Epoch: 30 | Training Loss: 0.20954833924770355 | Test Loss: 0.16984669864177704\n",
            "Epoch: 40 | Training Loss: 0.09433845430612564 | Test Loss: 0.03513690456748009\n",
            "Epoch: 50 | Training Loss: 0.023886388167738914 | Test Loss: 0.04784907028079033\n",
            "Epoch: 60 | Training Loss: 0.019956795498728752 | Test Loss: 0.045803118497133255\n",
            "Epoch: 70 | Training Loss: 0.016517987474799156 | Test Loss: 0.037530567497015\n",
            "Epoch: 80 | Training Loss: 0.013089174404740334 | Test Loss: 0.02994490973651409\n",
            "Epoch: 90 | Training Loss: 0.009653178043663502 | Test Loss: 0.02167237363755703\n",
            "Epoch: 100 | Training Loss: 0.006215683650225401 | Test Loss: 0.014086711220443249\n",
            "Epoch: 110 | Training Loss: 0.00278724217787385 | Test Loss: 0.005814164876937866\n",
            "Epoch: 120 | Training Loss: 0.0012645035749301314 | Test Loss: 0.013801801018416882\n",
            "Epoch: 130 | Training Loss: 0.0012645035749301314 | Test Loss: 0.013801801018416882\n",
            "Epoch: 140 | Training Loss: 0.0012645035749301314 | Test Loss: 0.013801801018416882\n",
            "Epoch: 150 | Training Loss: 0.0012645035749301314 | Test Loss: 0.013801801018416882\n",
            "Epoch: 160 | Training Loss: 0.0012645035749301314 | Test Loss: 0.013801801018416882\n",
            "Epoch: 170 | Training Loss: 0.0012645035749301314 | Test Loss: 0.013801801018416882\n",
            "Epoch: 180 | Training Loss: 0.0012645035749301314 | Test Loss: 0.013801801018416882\n",
            "Epoch: 190 | Training Loss: 0.0012645035749301314 | Test Loss: 0.013801801018416882\n"
          ]
        }
      ]
    },
    {
      "cell_type": "code",
      "source": [
        "model_1.state_dict()"
      ],
      "metadata": {
        "colab": {
          "base_uri": "https://localhost:8080/"
        },
        "id": "ISX1wlneuLdn",
        "outputId": "4b7fe010-4569-40fc-9b22-925ea798374c"
      },
      "execution_count": 115,
      "outputs": [
        {
          "output_type": "execute_result",
          "data": {
            "text/plain": [
              "OrderedDict([('linear_layer.weight', tensor([[0.6968]], device='cuda:0')),\n",
              "             ('linear_layer.bias', tensor([0.3025], device='cuda:0'))])"
            ]
          },
          "metadata": {},
          "execution_count": 115
        }
      ]
    },
    {
      "cell_type": "code",
      "source": [
        "weight, bias"
      ],
      "metadata": {
        "colab": {
          "base_uri": "https://localhost:8080/"
        },
        "id": "yqHAyUSJvqpO",
        "outputId": "244ab047-1481-46e7-b457-dddf35ad09d4"
      },
      "execution_count": 116,
      "outputs": [
        {
          "output_type": "execute_result",
          "data": {
            "text/plain": [
              "(0.7, 0.3)"
            ]
          },
          "metadata": {},
          "execution_count": 116
        }
      ]
    },
    {
      "cell_type": "code",
      "source": [
        "train_loss_values"
      ],
      "metadata": {
        "colab": {
          "base_uri": "https://localhost:8080/"
        },
        "id": "w9cqbzZyzk5d",
        "outputId": "c6698d40-5b2e-4298-b30d-c9a2312461bb"
      },
      "execution_count": 117,
      "outputs": [
        {
          "output_type": "execute_result",
          "data": {
            "text/plain": [
              "[tensor(0.5552, device='cuda:0', grad_fn=<MeanBackward0>),\n",
              " tensor(0.4400, device='cuda:0', grad_fn=<MeanBackward0>),\n",
              " tensor(0.3248, device='cuda:0', grad_fn=<MeanBackward0>),\n",
              " tensor(0.2095, device='cuda:0', grad_fn=<MeanBackward0>),\n",
              " tensor(0.0943, device='cuda:0', grad_fn=<MeanBackward0>),\n",
              " tensor(0.0239, device='cuda:0', grad_fn=<MeanBackward0>),\n",
              " tensor(0.0200, device='cuda:0', grad_fn=<MeanBackward0>),\n",
              " tensor(0.0165, device='cuda:0', grad_fn=<MeanBackward0>),\n",
              " tensor(0.0131, device='cuda:0', grad_fn=<MeanBackward0>),\n",
              " tensor(0.0097, device='cuda:0', grad_fn=<MeanBackward0>),\n",
              " tensor(0.0062, device='cuda:0', grad_fn=<MeanBackward0>),\n",
              " tensor(0.0028, device='cuda:0', grad_fn=<MeanBackward0>),\n",
              " tensor(0.0013, device='cuda:0', grad_fn=<MeanBackward0>),\n",
              " tensor(0.0013, device='cuda:0', grad_fn=<MeanBackward0>),\n",
              " tensor(0.0013, device='cuda:0', grad_fn=<MeanBackward0>),\n",
              " tensor(0.0013, device='cuda:0', grad_fn=<MeanBackward0>),\n",
              " tensor(0.0013, device='cuda:0', grad_fn=<MeanBackward0>),\n",
              " tensor(0.0013, device='cuda:0', grad_fn=<MeanBackward0>),\n",
              " tensor(0.0013, device='cuda:0', grad_fn=<MeanBackward0>),\n",
              " tensor(0.0013, device='cuda:0', grad_fn=<MeanBackward0>)]"
            ]
          },
          "metadata": {},
          "execution_count": 117
        }
      ]
    },
    {
      "cell_type": "code",
      "source": [
        "test_loss_values"
      ],
      "metadata": {
        "colab": {
          "base_uri": "https://localhost:8080/"
        },
        "id": "MSsCmVAhzn9I",
        "outputId": "952e69d2-8e3d-4db9-acbb-c6ed660b163e"
      },
      "execution_count": 118,
      "outputs": [
        {
          "output_type": "execute_result",
          "data": {
            "text/plain": [
              "[tensor(0.5740, device='cuda:0'),\n",
              " tensor(0.4393, device='cuda:0'),\n",
              " tensor(0.3046, device='cuda:0'),\n",
              " tensor(0.1698, device='cuda:0'),\n",
              " tensor(0.0351, device='cuda:0'),\n",
              " tensor(0.0478, device='cuda:0'),\n",
              " tensor(0.0458, device='cuda:0'),\n",
              " tensor(0.0375, device='cuda:0'),\n",
              " tensor(0.0299, device='cuda:0'),\n",
              " tensor(0.0217, device='cuda:0'),\n",
              " tensor(0.0141, device='cuda:0'),\n",
              " tensor(0.0058, device='cuda:0'),\n",
              " tensor(0.0138, device='cuda:0'),\n",
              " tensor(0.0138, device='cuda:0'),\n",
              " tensor(0.0138, device='cuda:0'),\n",
              " tensor(0.0138, device='cuda:0'),\n",
              " tensor(0.0138, device='cuda:0'),\n",
              " tensor(0.0138, device='cuda:0'),\n",
              " tensor(0.0138, device='cuda:0'),\n",
              " tensor(0.0138, device='cuda:0')]"
            ]
          },
          "metadata": {},
          "execution_count": 118
        }
      ]
    },
    {
      "cell_type": "markdown",
      "source": [
        "## 6.5 Plotting the loss curve"
      ],
      "metadata": {
        "id": "gEIkr1KWyVKl"
      }
    },
    {
      "cell_type": "code",
      "source": [
        "train_loss_values_cpu = [t.cpu().item() for t in train_loss_values]\n",
        "test_loss_values_cpu = [t.cpu().item() for t in test_loss_values]\n",
        "\n",
        "plt.plot(epoch_count, np.array(torch.tensor(train_loss_values_cpu).numpy()), label=\"Train loss\")\n",
        "plt.plot(epoch_count, test_loss_values_cpu, label=\"Test Loss\")\n",
        "plt.title(\"Training and Test Loss Curves\")\n",
        "plt.ylabel(\"Loss\")\n",
        "plt.xlabel(\"Epochs\")\n",
        "plt.legend()"
      ],
      "metadata": {
        "colab": {
          "base_uri": "https://localhost:8080/",
          "height": 489
        },
        "id": "xjCPUieEyWjo",
        "outputId": "d9173802-43a0-42f6-fc41-af384c356af0"
      },
      "execution_count": 122,
      "outputs": [
        {
          "output_type": "execute_result",
          "data": {
            "text/plain": [
              "<matplotlib.legend.Legend at 0x7e3f17712b90>"
            ]
          },
          "metadata": {},
          "execution_count": 122
        },
        {
          "output_type": "display_data",
          "data": {
            "text/plain": [
              "<Figure size 640x480 with 1 Axes>"
            ],
            "image/png": "[encoded data removed]"
          },
          "metadata": {}
        }
      ]
    },
    {
      "cell_type": "markdown",
      "source": [
        "## 6.6 Making Predictions with out Trainined Model"
      ],
      "metadata": {
        "id": "ZerXWfwcwsTk"
      }
    },
    {
      "cell_type": "code",
      "source": [
        "model_1.eval()\n",
        "with torch.inference_mode():\n",
        "  y_preds_new = model_1(X_test)"
      ],
      "metadata": {
        "id": "SVDoA0ORvy_J"
      },
      "execution_count": 123,
      "outputs": []
    },
    {
      "cell_type": "code",
      "source": [
        "y_preds_new"
      ],
      "metadata": {
        "colab": {
          "base_uri": "https://localhost:8080/"
        },
        "id": "rAjJq1fHw3l5",
        "outputId": "20c7d2a1-9abc-4db4-de8b-60c36be9b10a"
      },
      "execution_count": 124,
      "outputs": [
        {
          "output_type": "execute_result",
          "data": {
            "text/plain": [
              "tensor([[0.8600],\n",
              "        [0.8739],\n",
              "        [0.8878],\n",
              "        [0.9018],\n",
              "        [0.9157],\n",
              "        [0.9296],\n",
              "        [0.9436],\n",
              "        [0.9575],\n",
              "        [0.9714],\n",
              "        [0.9854]], device='cuda:0')"
            ]
          },
          "metadata": {},
          "execution_count": 124
        }
      ]
    },
    {
      "cell_type": "code",
      "source": [
        "plot_predictions(predictions = y_preds_new.cpu())"
      ],
      "metadata": {
        "colab": {
          "base_uri": "https://localhost:8080/",
          "height": 599
        },
        "id": "q7vFUFEGwNQo",
        "outputId": "a784d260-57e7-41ba-d86b-f614b62e6fc4"
      },
      "execution_count": 125,
      "outputs": [
        {
          "output_type": "display_data",
          "data": {
            "text/plain": [
              "<Figure size 1000x700 with 1 Axes>"
            ],
            "image/png": "[encoded data removed]"
          },
          "metadata": {}
        }
      ]
    },
    {
      "cell_type": "markdown",
      "source": [
        "## 6.7 Saving and loading a our trained model"
      ],
      "metadata": {
        "id": "CSHcTp3lyG4f"
      }
    },
    {
      "cell_type": "code",
      "source": [
        "from pathlib import Path\n",
        "\n",
        "# 1. Create models directory\n",
        "MODEL_PATH = Path(\"models\")\n",
        "MODEL_PATH.mkdir(parents=True,exist_ok=True)\n",
        "\n",
        "#2. Create model save path\n",
        "MODEL_NAME = \"01_pytorch_workflow_model_1.pth\"\n",
        "MODEL_SAVE_PATH = MODEL_PATH / MODEL_NAME\n",
        "\n",
        "#3. Save the model state dict\n",
        "print(f\"Saving model to: {MODEL_SAVE_PATH}\")\n",
        "torch.save(obj=model_1.state_dict(), f=MODEL_SAVE_PATH)"
      ],
      "metadata": {
        "colab": {
          "base_uri": "https://localhost:8080/"
        },
        "id": "zBuvBpZHwRgf",
        "outputId": "30c24a16-9e44-4a88-9640-07c70142f0a2"
      },
      "execution_count": 128,
      "outputs": [
        {
          "output_type": "stream",
          "name": "stdout",
          "text": [
            "Saving model to: models/01_pytorch_workflow_model_1.pth\n"
          ]
        }
      ]
    },
    {
      "cell_type": "code",
      "source": [
        "# Loading a PyTorch Model\n",
        "\n",
        "# create a new instance of our linear regression model\n",
        "loaded_model_1 = LinearRegressionModel()\n",
        "\n",
        "# Load the model saved model_1 state_dict\n",
        "loaded_model_1.load_state_dict(torch.load(MODEL_SAVE_PATH))\n",
        "\n",
        "# Put the loaded model to device\n",
        "loaded_model_1.to(device)"
      ],
      "metadata": {
        "colab": {
          "base_uri": "https://localhost:8080/"
        },
        "id": "YX5Iz_eC19gE",
        "outputId": "4e95f016-ce79-4b50-c050-59711ce8d4bb"
      },
      "execution_count": 129,
      "outputs": [
        {
          "output_type": "execute_result",
          "data": {
            "text/plain": [
              "LinearRegressionModel(\n",
              "  (linear_layer): Linear(in_features=1, out_features=1, bias=True)\n",
              ")"
            ]
          },
          "metadata": {},
          "execution_count": 129
        }
      ]
    },
    {
      "cell_type": "code",
      "source": [
        "next(loaded_model_1.parameters())"
      ],
      "metadata": {
        "colab": {
          "base_uri": "https://localhost:8080/"
        },
        "id": "lgqMKVuv3nlJ",
        "outputId": "320b1377-8096-4db7-9c29-ac7d00154237"
      },
      "execution_count": 130,
      "outputs": [
        {
          "output_type": "execute_result",
          "data": {
            "text/plain": [
              "Parameter containing:\n",
              "tensor([[0.6968]], device='cuda:0', requires_grad=True)"
            ]
          },
          "metadata": {},
          "execution_count": 130
        }
      ]
    },
    {
      "cell_type": "code",
      "source": [
        "loaded_model_1.state_dict()"
      ],
      "metadata": {
        "colab": {
          "base_uri": "https://localhost:8080/"
        },
        "id": "2XfEe7SQ3rpw",
        "outputId": "7e87c0fd-eca2-4c2f-b88c-664235913762"
      },
      "execution_count": 131,
      "outputs": [
        {
          "output_type": "execute_result",
          "data": {
            "text/plain": [
              "OrderedDict([('linear_layer.weight', tensor([[0.6968]], device='cuda:0')),\n",
              "             ('linear_layer.bias', tensor([0.3025], device='cuda:0'))])"
            ]
          },
          "metadata": {},
          "execution_count": 131
        }
      ]
    },
    {
      "cell_type": "code",
      "source": [
        "# Evaluate the loaded model\n",
        "loaded_model_1.eval()\n",
        "with torch.inference_mode():\n",
        "  loaded_model_1_preds = loaded_model_1(X_test)\n",
        "y_preds_new == loaded_model_1_preds"
      ],
      "metadata": {
        "colab": {
          "base_uri": "https://localhost:8080/"
        },
        "id": "lyHUzzkY3wn1",
        "outputId": "d72747b0-2347-47ee-8e4b-6003f3d97faa"
      },
      "execution_count": 132,
      "outputs": [
        {
          "output_type": "execute_result",
          "data": {
            "text/plain": [
              "tensor([[True],\n",
              "        [True],\n",
              "        [True],\n",
              "        [True],\n",
              "        [True],\n",
              "        [True],\n",
              "        [True],\n",
              "        [True],\n",
              "        [True],\n",
              "        [True]], device='cuda:0')"
            ]
          },
          "metadata": {},
          "execution_count": 132
        }
      ]
    },
    {
      "cell_type": "code",
      "source": [],
      "metadata": {
        "id": "xcJRjYcV4EUd"
      },
      "execution_count": null,
      "outputs": []
    }
  ]
}